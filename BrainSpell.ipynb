{
 "metadata": {
  "name": "",
  "signature": "sha256:5a05629ea1a0c7d778730c70ca3802a41a940c9dacb7f16df9cf4a3ea9c302ff"
 },
 "nbformat": 3,
 "nbformat_minor": 0,
 "worksheets": [
  {
   "cells": [
    {
     "cell_type": "markdown",
     "metadata": {},
     "source": [
      "# BrainSpell: A web portal to annotate neuroimaging collaboratively"
     ]
    },
    {
     "cell_type": "markdown",
     "metadata": {},
     "source": [
      "The neuroimaging community is in dire need of informatics resources capable of annotating and mining text-driven results.\n",
      "\n",
      "BrainSpell is a structured knowledge resource that provides annotations of the neuroimaging literature using a crowdsourcing approach. At BrainSpell, we provide a forum for neuroimaging researchers to enter annotations describing the content and results of neuroimaging papers, as well as a search interface to view these annotations.\n",
      "\n",
      "Currently, we have indexed 9,179 peer reviewed publications.\n",
      "\n",
      "ATHENA toolkit: capable of rapidly generating annotations for thousands of studies, which can be distributed and disseminated to the community via the BrainSpell interface. Automated annotations generated via novel text-mining methods would enhance the crowdsourced annotations already represented in BrainSpell. Moreover, as CogPO, Cognitive Atlas, and BrainMap terms are already included in the BrainSpell structured vocabulary, we are well positioned for alignment of our terminologies, which should increase interoperability and data standardization.\n",
      "\n",
      "BrainSpell (brainspell.org) is a platform to collaboratively annotate the neuroimaging literature. BrainSpell also doubles as a search engine for neuroimaging meta-analysis. Currently, BrainSpell indexes more than 9,000 articles. For each article, the coordinates of functional activation are displayed in tables, supported by interactive 3D renders in a glass brain. The participants are requested to annotate methodological information, such as stereotaxic space or number of subjects used in the article, and also to annotate each of the experiments in the articles using well established ontologies for cognitive domains (from cognitiveatlas.org and brainmap.org) and tasks (from cognitiveatlas.org). In collaboration with colleagues at the Max Planck Institute in Leipzig and the MIT in Boston, we have already organised the first 'tagging parties' to annotate several hundreds of BrainSpell articles.\n",
      "\n",
      "[Add articles manually]\n"
     ]
    },
    {
     "cell_type": "markdown",
     "metadata": {},
     "source": [
      "Entry page: search field or random articles to tag\n",
      "\n",
      "Search: rich search syntaxis for finding articles, mni305 volume, 3d render\n",
      "\n",
      "Article: abstract, full text links, annotations\n",
      "\n",
      "Article level annotations:\n",
      "\n",
      "* methodological information: number of subjects, stereotaxic space\n",
      "* mesh tags\n",
      "\n",
      "Experiment level annotations:\n",
      "\n",
      "* is the table correct\n",
      "* cognitive atlas task ontology\n",
      "* cognitive atlas cognitive domain ontology\n",
      "* brainmap cognitive domain ontology\n",
      "\n",
      "RESTFul API\n",
      "\n",
      "Database organisation\n"
     ]
    },
    {
     "cell_type": "markdown",
     "metadata": {},
     "source": [
      "## Database\n",
      "* Articles\n",
      " * UniqueID: Number\n",
      " * Title: <![CDATA[...]]>\n",
      " * Authors: Last I, Last I, ...\n",
      " * Abstract: Text\n",
      " * Reference: Last I, Last I, ... et al. (Year) Journal Number(Volume):FirstPage-LastPage\n",
      " * PMID: Number\n",
      " * DOI: Doi\n",
      " * NeuroSynthID: Number\n",
      " * Experiments: <![CDATA[[{\"title\":\"...\",\"caption\":\"...\",\"locations\":[\"X,Y,Z\",...],\"tags\":[{\"name\":\"...\",\"ontology\":\"tasks\",\"agree\":1,\"disagree\":1}],\"markBadTable\":{\"bad\":2,\"ok\":2}}]]]>\n",
      " * Metadata: {\"space\":\"MNI\",\"meshHeadings\":[{\"name\":\"Adolescent\",\"majorTopic\":\"N\"},{\"name\":\"Adult\",\"majorTopic\":\"N\"},{\"name\":\"Brain Mapping\",\"majorTopic\":\"N\"},{\"name\":\"Deception\",\"majorTopic\":\"Y\",\"agree\":1,\"disagree\":0},{\"name\":\"Dissociative Disorders\",\"majorTopic\":\"N\"},{\"name\":\"Evoked Potentials\",\"majorTopic\":\"N\"},{\"name\":\"Gyrus Cinguli\",\"majorTopic\":\"N\",\"agree\":1,\"disagree\":0},{\"name\":\"Humans\",\"majorTopic\":\"N\"},{\"name\":\"Lie Detection\",\"majorTopic\":\"N\"},{\"name\":\"Male\",\"majorTopic\":\"N\"},{\"name\":\"Prefrontal Cortex\",\"majorTopic\":\"N\",\"agree\":1,\"disagree\":0}],\"stereo\":{\"Talairach\":0,\"MNI\":4},\"comments\":[{\"comment\":\"...\",\"user\":\"rob2\",\"time\":\"1388263549549\"},...],\"nsubjects\":[\"38\",...]}\n",
      "* Concepts\n",
      "* Log\n",
      "* Users"
     ]
    },
    {
     "cell_type": "code",
     "collapsed": false,
     "input": [],
     "language": "python",
     "metadata": {},
     "outputs": []
    }
   ],
   "metadata": {}
  }
 ]
}