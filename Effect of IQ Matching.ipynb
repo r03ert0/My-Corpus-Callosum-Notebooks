{
 "metadata": {
  "name": "",
  "signature": "sha256:0b2ffebf866d1143f16e00cc39fbb5afd7cbf700a27f2a1464449fb6ac50bcba"
 },
 "nbformat": 3,
 "nbformat_minor": 0,
 "worksheets": [
  {
   "cells": [
    {
     "cell_type": "markdown",
     "metadata": {},
     "source": [
      "# Effect of IQ matching\n",
      "\n",
      "*Roberto Toro, July 2014*\n",
      "\n",
      "Verbal and performance IQ correlate with brain size in the general population. In ASD patients, however, verbal IQ does not seem to correlate with brain size. On the other hand, many studies of the neuroanatomy of autism match their case and control groups by IQ. Can this matching induce an overrepresentation of subjects with large brain volume among cases, and an underrepresentation of small brain volumes among controls?\n",
      "\n",
      "We test this possibility by simulating two populations, one following the covariance pattern between VIQ, PIQ and BV observed among controls, the other following the covariance pattern observed among patients. The two populations are then ,matched by Full IQ (=(VIQ+PIQ)/2), and I look at the change in the power to find a difference in brain volume as a function of sample size.\n",
      "\n",
      "\n",
      "## Import data\n",
      "\n",
      "A .csv table with VIQ, PIQ and BV data for the ASD and Ctrl groups is at http://siphonophore/corpuscallosum/data/viq-piq-bv.txt. We start by downloading the data from there.\n",
      "\n",
      "<b>data</b>: Nx4 matrix, 1 row per subject, 4 columns: Dx (1:ASD, 2:Ctrl), VIQ, PIQ, BV (mm3)<br>\n",
      "    <b>ASD</b>: N<sub>asd</sub> vector, indices of ASD subjects within <b>data</b>\n",
      "    <b>Ctrl</b>: N<sub>ctrl</sub> vector, indexes of Control subjects within <b>data</b>\n",
      "</p>"
     ]
    },
    {
     "cell_type": "code",
     "collapsed": false,
     "input": [
      "%pylab inline\n",
      "\n",
      "import numpy as np\n",
      "import scipy.linalg as lin\n",
      "import scipy.stats as sst\n",
      "import pylab\n",
      "\n",
      "# 1. Import the data, find ASD and Ctrl subjects\n",
      "# columns are: Diagnostic, VIQ, PIQ, BV\n",
      "data=np.genfromtxt(\"http://siphonophore.org/corpuscallosum/data/viq-piq-bv.txt\",skip_header=1);\n",
      "ASD=np.nonzero(data[:,0]==1)[0]\n",
      "Ctrl=np.nonzero(data[:,0]==2)[0]"
     ],
     "language": "python",
     "metadata": {},
     "outputs": [
      {
       "output_type": "stream",
       "stream": "stdout",
       "text": [
        "Populating the interactive namespace from numpy and matplotlib\n"
       ]
      }
     ],
     "prompt_number": 1
    },
    {
     "cell_type": "markdown",
     "metadata": {},
     "source": [
      "##Compute covariance matrices\n",
      "<b>VA</b>: 3x3 matrix, covariance matrix between VIQ, PIQ and BV for ASD subjects<br>\n",
      "<b>VC</b>: 3x3 matrix, covariance matrix between VIQ, PIQ, BV for Control subjects<br>"
     ]
    },
    {
     "cell_type": "code",
     "collapsed": false,
     "input": [
      "1# 2. Compute means and covariance matrices\n",
      "if 0:\n",
      "    # observed statistics\n",
      "    muA=np.mean(data[ ASD,1:],axis=0);\n",
      "    muC=np.mean(data[Ctrl,1:],axis=0);\n",
      "    VA=np.cov(data[ASD,1:],rowvar=0);\n",
      "    VC=np.cov(data[Ctrl,1:],rowvar=0);\n",
      "if 1:\n",
      "    # test statistics\n",
      "    rPB=0.30  # correlation between PIQ and brain volume\n",
      "    rVP=0.5   # correlation between VIQ and PIQ\n",
      "    sV=sP=15  # standard deviation of VIQ and PIQ\n",
      "    sB=100    # standard deviation of brain volume\n",
      "    muA=np.array([100,110,1100]);\n",
      "    muC=np.array([110,110,1100]);\n",
      "    VA=np.array([[sV*sV,rVP*sV*sP,0],        [rVP*sV*sP,sP*sP,rPB*sP*sB],[0,rPB*sP*sB,sB*sB]])\n",
      "    VC=np.array([[sV*sV,rVP*sV*sP,rPB*sV*sB],[rVP*sV*sP,sP*sP,rPB*sP*sB],[rPB*sV*sB,rPB*sP*sB,sB*sB]])\n",
      "print \"ASD means\";\n",
      "print muA;\n",
      "print \"Ctrl means\";\n",
      "print muC;\n",
      "print \"ASD covariance\";\n",
      "print VA;\n",
      "print \"Ctrl covariance matrix\";\n",
      "print VC;"
     ],
     "language": "python",
     "metadata": {},
     "outputs": [
      {
       "output_type": "stream",
       "stream": "stdout",
       "text": [
        "ASD means\n",
        "[ 100  110 1100]\n",
        "Ctrl means\n",
        "[ 110  110 1100]\n",
        "ASD covariance\n",
        "[[   225.     112.5      0. ]\n",
        " [   112.5    225.     450. ]\n",
        " [     0.     450.   10000. ]]\n",
        "Ctrl covariance matrix\n",
        "[[   225.     112.5    450. ]\n",
        " [   112.5    225.     450. ]\n",
        " [   450.     450.   10000. ]]\n"
       ]
      }
     ],
     "prompt_number": 2
    },
    {
     "cell_type": "markdown",
     "metadata": {},
     "source": [
      "## Iterations\n",
      "<b>N</b>: scalar, initial number of subjects in each group (before matching)\n",
      "\n",
      "### Generate groups\n",
      "<b>muA</b>: vector, mean VIQ, mean PIQ and mean BV for ASD<br>\n",
      "<b>muC</b>: vector, mean VIQ, mean PIQ and mean BV for Controls<br>\n",
      "<b>yA</b>: Nx3 matrix, values generated with mean muA and covariance matrix VA<br>\n",
      "<b>yC</b>: Nx3 matrix, values generated with mean muC and covariance matric VC<br>\n",
      "<b>iA</b>: N vector, with values from 0 to N-1<br>\n",
      "<b>iC</b>: N vector, with values from 0 to N-1<br>\n",
      "\n",
      "### Generate FIQ values\n",
      "<b>FA</b>: N vector, with FIQ values for ASD<br>\n",
      "<b>FC</b>: N vector, with FIQ values for Controls<br>\n",
      "\n",
      "### Get the largest min and the smallest max to truncate the distributions\n",
      "<b>minAC</b>: largest min between min(FIQ) ASD and min(FIQ) Controls<br>\n",
      "<b>maxAC</b>: smallest max between max(FIQ) ASD and max(FIQ) Controls<br>\n",
      "<br>\n",
      "Now, the indices corresponding to samples in both groups where FIQ&lt;minAC and FIQ&gt;maxAC are deleted from <b>iA</b> and <b>iC</b>.<br>\n",
      "<br>\n",
      "<b>TMP</b>: 3x(Nia+Nic) matrix, 1st row: FIQ values, 2nd row: 1 for ASD, 2 for Ctrl, 3rd row: subject index in yA and yC (depending on the value of the 2nd row)<br>\n",
      "<b>ind</b>: (Nia+Nic) vector with the re-arrangement of the indices that would sort TMP by FIQ.<br>\n",
      "<br>\n",
      "Now, the samples are matched by FIQ, and the new indices of matched subjects are placed in iA and iC<br>\n",
      "<br>"
     ]
    },
    {
     "cell_type": "code",
     "collapsed": false,
     "input": [
      "# 3. Iterations\n",
      "flagSave=0;\n",
      "replications=1000;\n",
      "\n",
      "#rPB=0.30  # correlation between PIQ and brain volume\n",
      "rVP=0.5   # correlation between VIQ and PIQ\n",
      "sV=sP=15  # standard deviation of VIQ and PIQ\n",
      "sB=100    # standard deviation of brain volume\n",
      "muA=np.array([100,110,1100]);\n",
      "muC=np.array([110,110,1100]);\n",
      "\n",
      "for irPB in range(0,5,1):\n",
      "    rPB=0.30+0.05*irPB;\n",
      "    VA=np.array([[sV*sV,rVP*sV*sP,0],        [rVP*sV*sP,sP*sP,rPB*sP*sB],[0,rPB*sP*sB,sB*sB]])\n",
      "    VC=np.array([[sV*sV,rVP*sV*sP,rPB*sV*sB],[rVP*sV*sP,sP*sP,rPB*sP*sB],[rPB*sV*sB,rPB*sP*sB,sB*sB]])\n",
      "    \n",
      "    for N in range(100,1600,200):\n",
      "        T=[]\n",
      "        P=[]\n",
      "        mean_N=0;\n",
      "        mean_yMA=0;\n",
      "        mean_yMC=0;\n",
      "        for j in range(0,replications):\n",
      "            # generate ASD and Ctrl subjects after the observed\n",
      "            # covariance matrices\n",
      "            yA=np.random.multivariate_normal(muA,VA,size=N)\n",
      "            yC=np.random.multivariate_normal(muC,VC,size=N)\n",
      "        \n",
      "            # generate FIQ values\n",
      "            FA=0.5*yA[:,0]+0.5*yA[:,1]\n",
      "            FC=0.5*yC[:,0]+0.5*yC[:,1]\n",
      "    \n",
      "            # get the largest min, and the smallest max to truncate the distributions\n",
      "            minA=np.min(FA);\n",
      "            maxA=np.max(FA);\n",
      "            minC=np.min(FC);\n",
      "            maxC=np.max(FC);\n",
      "            if(minA<minC):\n",
      "                minAC=minC\n",
      "            else:\n",
      "                minAC=minA\n",
      "            if(maxA>maxC):\n",
      "                maxAC=maxC\n",
      "            else:\n",
      "                maxAC=maxA\n",
      "            iA=range(0,N)\n",
      "            iC=range(0,N)\n",
      "            iA=np.delete(iA,np.nonzero(FA<minAC))\n",
      "            iA=np.delete(iA,np.nonzero(FA>maxAC))\n",
      "            iC=np.delete(iC,np.nonzero(FC<minAC))\n",
      "            iC=np.delete(iC,np.nonzero(FC>maxAC))\n",
      "        \n",
      "            # concatenate both populations and sort them by FIQ\n",
      "            TMPA=np.concatenate([[FA[iA]],[1*np.ones(iA.shape,dtype=int)],[iA]])\n",
      "            TMPC=np.concatenate([[FC[iC]],[2*np.ones(iC.shape,dtype=int)],[iC]])\n",
      "            TMP=np.concatenate([TMPA,TMPC],axis=1)\n",
      "            ind=np.argsort(TMP)[0,:]\n",
      "        \n",
      "            # pick one from one group, one from the other\n",
      "            MATCHED=np.array([TMP[:,ind[0]]]);\n",
      "            old=TMP[1,ind[0]];\n",
      "            for i in range(1,TMP.shape[1]):\n",
      "                if TMP[1,ind[i]]!=old:\n",
      "                    old=TMP[1,ind[i]]\n",
      "                    MATCHED=np.concatenate([MATCHED,np.array([TMP[:,ind[i]]])])\n",
      "            iA=MATCHED[np.nonzero(MATCHED[:,1]==1)[0],2].astype('int');\n",
      "            iC=MATCHED[np.nonzero(MATCHED[:,1]==2)[0],2].astype('int');\n",
      "            yMA=yA[iA,:].T\n",
      "            yMC=yC[iC,:].T\n",
      "        \n",
      "            # compare brain volume between groups\n",
      "            t,prob=sst.ttest_ind(yMA[2,:],yMC[2,:]);\n",
      "            #print \"t:\",t,\"prob:\",prob\n",
      "            T=T+[t]\n",
      "            P=P+[prob/2.0]\n",
      "            \n",
      "            mean_N=mean_N+yMA.shape[1];\n",
      "            mean_yMA=mean_yMA+np.mean(yMA[2,:]);\n",
      "            mean_yMC=mean_yMC+np.mean(yMC[2,:]);\n",
      "    \n",
      "        # plot the matched distributions\n",
      "        #pylab.figure()\n",
      "        #pylab.hist(yMA[2,:],cumulative=1,histtype='step')\n",
      "        #pylab.hist(yMC[2,:],cumulative=1,histtype='step')\n",
      "        print rPB,N,mean_N/float(replications),mean_yMA/float(replications),mean_yMC/float(replications),np.sum(np.array(P)<0.05)/float(replications)"
     ],
     "language": "python",
     "metadata": {},
     "outputs": [
      {
       "output_type": "stream",
       "stream": "stdout",
       "text": [
        "0.3 100 47.738 1103.20088913 1092.45317117 0.148\n",
        "0.3"
       ]
      },
      {
       "output_type": "stream",
       "stream": "stdout",
       "text": [
        " 300 144.226 1103.6295741 1093.11213527 0.239\n",
        "0.3"
       ]
      },
      {
       "output_type": "stream",
       "stream": "stdout",
       "text": [
        " 500 240.364 1103.29641186 1093.23080629 0.282\n",
        "0.3"
       ]
      },
      {
       "output_type": "stream",
       "stream": "stdout",
       "text": [
        " 700 336.666 1103.5450746 1093.00874046 0.381\n",
        "0.3"
       ]
      },
      {
       "output_type": "stream",
       "stream": "stdout",
       "text": [
        " 900 433.624 1103.53600576 1093.22948579 0.457\n",
        "0.3"
       ]
      },
      {
       "output_type": "stream",
       "stream": "stdout",
       "text": [
        " 1100 529.592 1103.45822228 1093.19808572 0.511\n",
        "0.3"
       ]
      },
      {
       "output_type": "stream",
       "stream": "stdout",
       "text": [
        " 1300 626.689 1103.35141837 1093.1423713 0.573\n",
        "0.3"
       ]
      },
      {
       "output_type": "stream",
       "stream": "stdout",
       "text": [
        " 1500 722.493 1103.32593574 1093.19069171 0.599\n",
        "0.35"
       ]
      },
      {
       "output_type": "stream",
       "stream": "stdout",
       "text": [
        " 100 47.539 1103.32449584 1090.41379387 0.16\n",
        "0.35"
       ]
      },
      {
       "output_type": "stream",
       "stream": "stdout",
       "text": [
        " 300 144.279 1103.90001476 1092.1876336 0.24\n",
        "0.35"
       ]
      },
      {
       "output_type": "stream",
       "stream": "stdout",
       "text": [
        " 500 240.879 1104.00783546 1092.08601608 0.352\n",
        "0.35"
       ]
      },
      {
       "output_type": "stream",
       "stream": "stdout",
       "text": [
        " 700 337.038 1104.0239154 1091.82461153 0.487\n",
        "0.35"
       ]
      },
      {
       "output_type": "stream",
       "stream": "stdout",
       "text": [
        " 900 432.932 1103.59910905 1091.89614594 0.524\n",
        "0.35"
       ]
      },
      {
       "output_type": "stream",
       "stream": "stdout",
       "text": [
        " 1100 530.527 1104.04023887 1092.14142261 0.625\n",
        "0.35"
       ]
      },
      {
       "output_type": "stream",
       "stream": "stdout",
       "text": [
        " 1300 625.954 1103.94728506 1092.11139888 0.667\n",
        "0.35"
       ]
      },
      {
       "output_type": "stream",
       "stream": "stdout",
       "text": [
        " 1500 722.678 1103.8418567 1092.13934632 0.747\n",
        "0.4"
       ]
      },
      {
       "output_type": "stream",
       "stream": "stdout",
       "text": [
        " 100 47.829 1104.58228135 1090.30500098 0.152\n",
        "0.4"
       ]
      },
      {
       "output_type": "stream",
       "stream": "stdout",
       "text": [
        " 300 144.099 1104.31607611 1090.47847025 0.321\n",
        "0.4"
       ]
      },
      {
       "output_type": "stream",
       "stream": "stdout",
       "text": [
        " 500 240.409 1104.42310204 1091.03085159 0.432\n",
        "0.4"
       ]
      },
      {
       "output_type": "stream",
       "stream": "stdout",
       "text": [
        " 700 336.529 1104.60131585 1091.14037867 0.546\n",
        "0.4"
       ]
      },
      {
       "output_type": "stream",
       "stream": "stdout",
       "text": [
        " 900 433.892 1104.19473495 1090.91042213 0.642\n",
        "0.4"
       ]
      },
      {
       "output_type": "stream",
       "stream": "stdout",
       "text": [
        " 1100 530.167 1104.37746233 1090.97179452 0.725\n",
        "0.4"
       ]
      },
      {
       "output_type": "stream",
       "stream": "stdout",
       "text": [
        " 1300 626.518 1104.37756538 1091.02664625 0.774\n",
        "0.4"
       ]
      },
      {
       "output_type": "stream",
       "stream": "stdout",
       "text": [
        " 1500 723.144 1104.46759928 1090.95780649 0.84\n",
        "0.45"
       ]
      },
      {
       "output_type": "stream",
       "stream": "stdout",
       "text": [
        " 100 47.746 1104.94659765 1089.47646557 0.173\n",
        "0.45"
       ]
      },
      {
       "output_type": "stream",
       "stream": "stdout",
       "text": [
        " 300 144.365 1104.77689442 1089.41081143 0.354\n",
        "0.45"
       ]
      },
      {
       "output_type": "stream",
       "stream": "stdout",
       "text": [
        " 500 240.606 1105.26239369 1089.77676722 0.523\n",
        "0.45"
       ]
      },
      {
       "output_type": "stream",
       "stream": "stdout",
       "text": [
        " 700 337.425 1104.98259321 1089.82924475 0.652\n",
        "0.45"
       ]
      },
      {
       "output_type": "stream",
       "stream": "stdout",
       "text": [
        " 900 433.405 1105.14134241 1090.14194987 0.724\n",
        "0.45"
       ]
      },
      {
       "output_type": "stream",
       "stream": "stdout",
       "text": [
        " 1100 530.005 1104.97439473 1089.95421095 0.806\n",
        "0.45"
       ]
      },
      {
       "output_type": "stream",
       "stream": "stdout",
       "text": [
        " 1300 625.725 1105.07641716 1089.97199466 0.861\n",
        "0.45"
       ]
      },
      {
       "output_type": "stream",
       "stream": "stdout",
       "text": [
        " 1500 723.153 1105.2048412 1089.90328848 0.918\n",
        "0.5"
       ]
      },
      {
       "output_type": "stream",
       "stream": "stdout",
       "text": [
        " 100 47.852 1105.67233683 1087.62008412 0.212\n",
        "0.5"
       ]
      },
      {
       "output_type": "stream",
       "stream": "stdout",
       "text": [
        " 300 144.305 1105.86996249 1088.07434008 0.446\n",
        "0.5"
       ]
      },
      {
       "output_type": "stream",
       "stream": "stdout",
       "text": [
        " 500 240.6 1105.59133342 1088.87123963 0.563\n",
        "0.5"
       ]
      },
      {
       "output_type": "stream",
       "stream": "stdout",
       "text": [
        " 700 336.986 1105.41444353 1088.65001503 0.742\n",
        "0.5"
       ]
      },
      {
       "output_type": "stream",
       "stream": "stdout",
       "text": [
        " 900 433.644 1105.47471321 1088.6223928 0.827\n",
        "0.5"
       ]
      },
      {
       "output_type": "stream",
       "stream": "stdout",
       "text": [
        " 1100 529.804 1105.74631123 1088.67435204 0.887\n",
        "0.5"
       ]
      },
      {
       "output_type": "stream",
       "stream": "stdout",
       "text": [
        " 1300 625.787 1105.67511019 1088.90754943 0.933\n",
        "0.5"
       ]
      },
      {
       "output_type": "stream",
       "stream": "stdout",
       "text": [
        " 1500 723.027 1105.52137577 1088.76063467 0.953\n"
       ]
      }
     ],
     "prompt_number": 3
    },
    {
     "cell_type": "code",
     "collapsed": false,
     "input": [],
     "language": "python",
     "metadata": {},
     "outputs": []
    }
   ],
   "metadata": {}
  }
 ]
}