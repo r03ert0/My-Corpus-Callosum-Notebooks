{
 "metadata": {
  "name": "",
  "signature": "sha256:2443880c55ebb5123b4d2792d7ff36053b331722e06298eb9b1a4f3f0bfcc5db"
 },
 "nbformat": 3,
 "nbformat_minor": 0,
 "worksheets": [
  {
   "cells": [
    {
     "cell_type": "markdown",
     "metadata": {},
     "source": [
      "# Influence of mechanical morphogenetic factors on the development and organisation of the neocortex"
     ]
    },
    {
     "cell_type": "markdown",
     "metadata": {},
     "source": [
      "1. neocortical organisation\n",
      " 1. description: cytoarchitectonic, functional, connective\n",
      " 2. development\n",
      " 3. evolution\n",
      "2. theories\n",
      " 1. genetic and activity-dependent mechanisms: protomap / protocortex\n",
      " 2. krubitzer & kaas\n",
      "3. relationship between neocortical organisation and anatomy: brain folding\n",
      " 1. early mechanical theories, difficulties\n",
      " 3. genetical theories, difficulties\n",
      "   1. mechanical morphogenesis (folding) in nature\n",
      "4. influence of mechanical morphogenetic factors on the development and organisation of the neocortex\n",
      " 1. new mechanical theories of brain folding\n",
      " 2. possible effects of mechanics on neocortical organisation\n",
      " 3. effect of mechanical stress on gene expression, mitosis, stem cell fate, apoptosis\n",
      " 4. effect of macroscopic anatomy on global neocortical organisation: molecule diffusion, functional assemblies, hodogenesis, regionalisation of function, localisation of function\n",
      " 5. formulation of a theory on the influence of mechanical morphogenetic factors on the development and organisation of the neocortex (and the nervous system)\n",
      " 6. predictions: mechanical changes should induce organisational changes\n",
      " \n",
      "**Additional issues**\n",
      "* genetic evolution\n",
      "* perturbation: genetic perturbations (ko, ki, cko), activity peturbations (sensory deprivation, enucleation, re-wiring), mechanical morphogenetic perturbations: artificial fold. Find article on the induction of an ectopic eye by flexure\n"
     ]
    },
    {
     "cell_type": "markdown",
     "metadata": {},
     "source": [
      "# Abstract\n",
      "\n",
      "The development and evolution of complex neocortical organisations is thought to result from the interaction of genetic and activity-dependent mechanisms. Here we propose that a third mechanism \u2013 mechanical morphogenesis \u2013 may also play an important role. We review recent theoretical and experimental results in non-linear physics showing how homogeneous growth can produce a rich variety of forms, in particular neocortical folding. The mechanical instabilities that produce these forms also induce heterogeneous patterns of stress at the scale of the organ. We review the evidence showing how stress can influence gene expression, cell proliferation, apoptosis and cell fate, and possibly influence or even determine neocortical regionalisation and connectivity."
     ]
    },
    {
     "cell_type": "markdown",
     "metadata": {},
     "source": [
      "[Snipet]\n",
      "\n"
     ]
    },
    {
     "cell_type": "markdown",
     "metadata": {},
     "source": [
      "### [Snipet] Importance of brain folding\n",
      "The analysis of cortical folding is an important clinical and neuroscientific research tool. From a clinical perspective, dramatic changes in cortical folding such as polymicrogyria and lissencephaly are characteristic of the neurodevelopmental disorders such as those produced by cytomegalovirus infection or foetal alcohol syndrome, but more subtle abnormalities in the degree or pattern of cortical folding have been reported for various neurodevelopmental disorders, such as autism, schizophrenia, epilepsy or Williams syndrome  (Bonnici et al., 2007; Van Essen et al., 2006; Hardan et al., 2004; Nesv\u00e5g et al., 2014; Nordahl et al., 2007; Palaniyappan et al., 2011; Roper et al., 2011; Schmitt et al., 2002; Voets et al., 2011; Zhang et al., 2010). From a neuroscientific perspective, brain folding has been used for more than a century to try to understand brain development, phylogenetic diversity and evolution (Zilles et al., 2013). Multiple studies have revealed a close relationship between cortical folding and the cytoarchitectonic, connective and functional organisation of the cerebral cortex, suggesting that common biological processes might shape them. The classic cytoarchitectonic maps of Brodmann provide various illustrations of correspondence between cortical folds and brain organisation, such as the central sulcus which divides the primary motor cortex from the somatosensory cortex, or the calcarine sulcus which divides the superior and inferior visual hemifields of the primary visual cortex in the occipital lobe (Brodmann, 1909; Brodmann and Gary, 2006). More recently, using surface-based reconstructions and quantitative cytoarchitectonic methods, Fischl et al. (Fischl, 2013; Fischl et al., 2007) confirmed the strong relationship between sulco-gyral anatomy and cytoarchitectonic organisation."
     ]
    },
    {
     "cell_type": "markdown",
     "metadata": {},
     "source": [
      "### [Snipet] The causes of brain folding are poorly understood\n",
      "In stark contrast with their importance and the long standing scientific interest in folding anatomy, we understand little about the mechanisms that produce it, its conserved phylogenetically patterns, its inter-individual variability, or its correspondence with neocortical organisation."
     ]
    },
    {
     "cell_type": "markdown",
     "metadata": {},
     "source": [
      "### [Snipet] Neocortical development and folding\n",
      "Most neurones in the mammalian cerebral cortex originate from progenitor cells in the ventricular, inner and outer subventricular zones. In mammals with folded brains, including primates and carnivores such as the ferret, these germinal layers house Intermediate Radial Glia Cells (IRGCs), a unique population of progenitor cells recently identified by members of our consortium and others (Fietz et al., 2010; Hansen et al., 2010; Reillo et al., 2011). Cortical folding occurs during a phase of rapid expansion of cortical surface area, which involves the generation of massive numbers of neurones. IRGCs play a fundamental role in this process, and because IRGCs are present almost exclusively in animals with folded brains, their proliferation has been proposed as a major evolutionary adaptation for the expansion and folding of the mammalian cerebral cortex. In our consortium, the group of V. Borrell has demonstrated that in ferrets the density of dividing IRGCs is particularly high in cortical regions that will later become gyri, and low in those that will become sulci (Borrell and G\u00f6tz, 2014; Reillo et al., 2011). Fig. 1, for example, shows that the density of dividing progenitors is higher at P3 (3rd post-natal day) under the region that will later become the splenial gyrus. But whereas our understanding of the mechanisms leading to the expansion of the cerebral cortex have progressed enormously during the last few years (Borrell and G\u00f6tz, 2014; Nonaka-Kinoshita et al., 2013; Stahl et al., 2013; Sun and Hevner, 2014), we still do not know how the regional heterogeneity in IRGC proliferation is achieved."
     ]
    },
    {
     "cell_type": "markdown",
     "metadata": {},
     "source": [
      "### [Snipet] Early mechanical theories\n",
      "The first theories proposed that folding occurred because the cortex \u201ccrumpled\u201d within the limited intracranial space (for example, Le Gros Clark (1945)), or because the superior cortical layers grew faster than the inferior cortical layers (Richman et al., 1975). But these purely mechanical theories seemed to many researchers insufficient to explain the formation of the highly conserved folding patterns characteristic of many species, or the relationship between folding and the organisation of the cerebral cortex."
     ]
    },
    {
     "cell_type": "markdown",
     "metadata": {},
     "source": [
      "### [Snipet] Genetic theories\n",
      "One possibility is that a genetically encoded pattern of molecular signals would control the rate of cell division of IRGCs, eventually leading to brain folding. This hypothesis can be seen as an extension of the cortical \u201cprotomap\u201d proposed by P. Rakic (1988), which suggested that the identity of neurones in different regions of the cerebral cortex was already genetically encoded in the progenitor cells at the ventricular zone, and then translated into to the cortex by neurones migrating along radial glial cells. An example in which this type of molecular patterning could lead to cortical folding was proposed independently in the mathematical models of D. Striegel and M. Hurdal (2009) and J. Lef\u00e8vre and J-F. Mangin (2010) from our consortium (Fig. 2). Both works suggested that these early molecular signals interact to produce cortical folding in a reaction-diffusion system, similar to the one proposed in the classical work of A. Turing (1952). In those models, the rate of division of the neuronal progenitors is spatially modulated by the non-linear interactions of inhibitory and excitatory morphogenes. Two interconnected processes are thus modelled: the patterning of the neurone-producing layers (ventricular zone, outer subventricular zone) by competing morphogenes, and the local change in cortical geometry produced by the difference in neuronal proliferation. The main focus of Lef\u00e8vre and Mangin's model was the production of folding patterns out of molecular signals. The way in which changes in cell proliferation induced folding was simply modelled as a direct translation of cell density into gyral height. This interaction was later explicitly modelled by Xu et al. (2010). Here, a mechanical model of the cortex, subplate and white matter was stated, and then one or two regions of the cortex were made to grow. The simulations showed the expected formation of an outward fold, and a distribution of stress similar to that observed in real ferret brains (in particular, this work suggested that it is not axonal tension that produce folds as suggested by the influential theory of D. Van Essen (1997), but the neocortex that stretches the axons)."
     ]
    },
    {
     "cell_type": "markdown",
     "metadata": {},
     "source": [
      "These models have in common that folding patterns appear as a reflection of a previous genetically encoded molecular pattern: a molecular pattern producing heterogeneous cell proliferation  (Borrell and G\u00f6tz, 2014; Lef\u00e8vre and Mangin, 2010; R\u00e9gis et al., 2005; Smart and McSherry, 1986a, 1986b; Striegel and Hurdal, 2009; Welker, 1990), or a molecular pattern determining the topology of cortico-cortical connections  (Van Essen, 1997; Geng et al., 2009; Hilgetag and Barbas, 2005)."
     ]
    },
    {
     "cell_type": "markdown",
     "metadata": {},
     "source": [
      "### [Snipet] Contemporary mechanical theories\n",
      "However, none of these ad-hoc, folding-producing mechanisms may be necessary to produce cortical folding. The formation of folds is ubiquitous in nature, and during the last 10 years fold morphogenesis has been a subject of increased interest in non-linear physics. The physics of folding has been described in polymers such as swelling gels (Mora and Boudaoud, 2006), but also in living tissues such as bacterial biofilms (Trejo et al., 2013), villi and crypts formation in intestinal epithelium (Hannezo et al., 2011), growing tumours (Ciarletta, 2013) or mucosa wall patterning (Xie et al., 2014), among many others.  In all these systems, differential growth plays a crucial role, by inducing a residual stress in the tissue. As growth continues, the amount of residual stress increases exponentially, and folds develop as a way of releasing this stress."
     ]
    },
    {
     "cell_type": "markdown",
     "metadata": {},
     "source": [
      "The system formed by the developing brain corresponds exactly to this situation. The mechanism is described in the model of Toro and Burnod  (2005), Toro (2012), or Bayly et al (2013): a homogeneous growth of the cerebral cortex over the elastic substrate of the white matter should produce an exponential increase of mechanical stress in the system. At some point, the stress related to the bending stiffness of the cortex becomes less important than the stress produced by stretching the white matter, and the cortex folds (Fig. 3). The folding of the cortex induces then a heterogeneous pattern of residual stress, with the regions that have become gyri being under tension, and those that have become sulci being under compression."
     ]
    },
    {
     "cell_type": "markdown",
     "metadata": {},
     "source": [
      "### [Snipet] Effect of mechanical forces on neocortical development\n",
      "This macroscopic, heterogeneous, residual stress could in turn modulate the proliferation of neural stem cells, influencing the organisation of the neocortex. It has been known for a longtime that localised stress can induce tissue growth or reabsorption (Fung, 1993; Rodriguez et al., 1994). Recent results shown that mechanical forces or substrate stiffness can have an important impact on the definition of cell-proliferation dynamics and cell fate. When a tumour spheroid formed from murine mammary carcinoma cells grown in a cluster within an agarose gel, is exposed to a compressive load during growth, the cells proliferate more slowly at regions of high stress and undergo programmed cell death when exposed to sufficiently high stress (Cheng et al., 2009). Engler et al (2006) showed that stem cells cultured in substrates mimicking the stiffness of brain, muscle or bone, would derive respectively into brain, muscle and bone cells. Whereas during the initial week in culture, reprogramming of these lineages is possible with the addition of soluble induction factors, after several weeks in culture, cells commit to the lineage specified by matrix elasticity. Finally, (Saha et al., 2008), demonstrated that neural stem-cells in culture over a soft gel (~100-500 Pa) produced mostly neurones, whereas harder gels (~1-10 kPa) produced mostly glial cells. In gels softer than ~10 Pa the spreading, self-renewal and differentiation of neural stem-cells were inhibited. Mechanical stress could affect progenitor cells directly, but also indirectly, by affecting the structure of the extra-cellular matrix. Mechanical stress could result in differential local concentrations of extra-cellular matrix components, which in turn could lead to differences in cell signalling and adhesion (Lutolf et al., 2009)."
     ]
    },
    {
     "cell_type": "markdown",
     "metadata": {},
     "source": [
      "### [Snipet] A role of mechanical morphogenetic forces on neocortical development and evolution\n",
      "It would be possible then that folding is a mechanical consequence of brain growth, that this folding induces a heterogeneous, macroscopic pattern of residual stress, and that this stress modulates gene expression, cell proliferation dynamics and cell fate, regulating then the regionalisation of the neocortex. That is, it could be possible that the mechanics of brain folding could have a causal effect on neocortical organisation, a possibility that would profoundly change our conception of the relationship between folding and the intrinsic organisation of the cortex. A testable prediction of this hypothesis is that the early induction of an artificial fold should modify the pattern of neural stem-cell proliferation and differentiation, altering neocortical organisation."
     ]
    },
    {
     "cell_type": "markdown",
     "metadata": {},
     "source": [
      "## [Biblio] Krubitzer's \"In search of a unifying theory of complex brain evolution\", Ann NY Acad Sci 2009\n",
      "\n",
      "* dramatically altered in diff. lineages --> remarkable behav. variations\n",
      "* how this structure changes? a question at multiple levels: macro (social), micro (synapses), dev. constraints\n",
      "* conservation and convergence point towards dev. constraints\n",
      "* humans have evolved mechanisms to loosen these constraints, leading to an exaggerated cortical plasticity\n",
      "\n",
      "**Intro**\n",
      "* how does evolution produce a complex brain? [G&A. Mechanical morphogenesis: a new factor]\n",
      "* what factors contribute to cortical expansion and organisation? [Expansion triggers growth-related mechanical morphogenetic instabilities: buckling, folding, wrinkling, sulcufying]\n",
      "* how did human brains become so exceptionally large, complex and fundamentally different than those of other animals? [no data, can ignore]\n",
      "\n",
      "**What is a cortical field and why study it?**\n",
      "* discussion regarding the relative contribution of G&A mechanisms\n",
      "* preeminence of the neocortex\n",
      "* neocortex is divided into cortical fields, defined based on connections, response properties, histological appearance, molecular signals\n",
      "* cortical fields are dynamic\n",
      "\n",
      "**How do we study cortical evolution**\n",
      "* always indirectly\n",
      "* comparative and developmental approaches\n",
      "* comparative approach\n",
      "  * compare mammals from different phylogenetic branches\n",
      "  * archtectonic method: cyto- myelo- chemo-architecture, as well as diff. stains to look at layers, neurotransmitters, types of receptors\n",
      "  * electrophysiologycal comparisons: multi-, single-unit\n",
      "  * neuroanatomical tracing (ex: thalamocortical connections)\n",
      "* developmental approach\n",
      " * G&A\n",
      " * G: genes expr. affects organisation, patterns are highly conserved (ex: Hox), mol. gradients guide dev.\n",
      " * A: sensory activity affects, f. ex., ctx field size, map formation, connectivity; enucleation\n",
      "\n",
      "**Levels of organization and complexity**\n",
      "* complex:=composite\n",
      "* Large brain. Necessary (but maybe not sufficient) to generate complexity. More complex social interactions. More cortical fields (mouse:10, macaque:50, human:>100?). Evolved independently in elephants, cetaceans and primates. Different proportion of large/short connections (large: proportionally more short conn).\n",
      "* wiring, brain size, conduction delay optimisation has been selected\n",
      "* number of neurones: linear increase with brain size\n",
      "* humans appear to have more interneurones of more types (DeFelipe 2007, compared with what?)\n",
      "* electrochemical props: highly conserved\n",
      "* strong phylogenetic tendency to increase brain volume, but not always the case [if complexity corr selection, but selection corr time, and time corr. BV, maybe then complexity corr BV]\n",
      "\n",
      "** Convergent evolution and constraints**\n",
      "* evidence for constrain: conservation of bauplan, with strong resiliance to perturbation; homoplasy: cortical expansion, modules (barrels, bands)\n",
      "* major constraints: genes & physics [in fact, activity]\n",
      "* genes: (1) highly conserved devo genes, (2) highly conserved homeobox (bauplan) genes, (3) non-coding [regulatory] elements\n",
      "* physics: shared physical environment: light, sound, temperature, heat, gravity; sensory-driven\n",
      "\n",
      "** Questions posed **\n",
      "* we know bauplan genes\n",
      "* genes and activity-dependent factors\n",
      "* humans have unique especialisations: cortical expansion [no], more cortical fields [data?], unique types of neurones [?], \"loosen developmental constrains\" (plasticity) [no data]\n",
      "\n",
      "** Is there a unifying theory for brain evolution **\n",
      "* Darwin's\n",
      "* importance of considering the larger social system"
     ]
    },
    {
     "cell_type": "markdown",
     "metadata": {},
     "source": [
      "## [Biblio] The economy of brain network organisation, Bullmore&Sporns, NNR 2012\n",
      "**Introduction**\n",
      "1. social/natural graphs are btw rnd/regular\n",
      "2. graph topol give info about function, performance (ex: metabol. ntw) and behaviour (ex: social ntw)\n",
      "3. virtual/physical ntws, phys. ntw have additional (physical) constraints\n",
      "4. brain, as phys ntw, are constrained. Trade-off btw efficiency and adaptive value\n",
      "5. brain economy\n",
      "\n",
      "**Brain networks are expensive**\n",
      " 1. brain architecture minimises cost (Cajal)\n",
      " 2. costs: space, time, material\n",
      "\n",
      "* Network wiring costs\n",
      " 1. limited volume [poor argument... body=brain+rest, so body cannot limit BV]\n",
      " 2. for axons: length & diametre\n",
      " 3. allometric laws: WM vs GM (+allom, maybe due to increased ax. diam & N syn/neurone: Changizi \"Principles underlying mammalian neocortical scaling\")\n",
      " 4. proportionally less long connections as BV increases: probability of connectivity deacreases ~1/distance^2. Folding minimizes distance\n",
      " 5. brain do minimise, but that's not all: there's also \"volume exclusion\" (Chen, Hall, Chklovskii \"Wiring optimization\")\n",
      " 6. functional advantage of direct monosyn connections. Models including minimisation of wiring cost and path length (number of jumps) produce realistic ntws (Cuntz&al \"One rule to grow them all\"\n",
      "\n",
      "* Network running costs\n",
      " 1. energy\n",
      " 2. allom: EnergyVsBV [from Fig 1d, it looks like - allom... check Karbowski \"Global and regional brain metabolic scaling\"]\n",
      " 3. most of the cost comes from mantaining membrane V gradient. Sparse coding help reduce metab. cost\n",
      " 4. the relationship btw functional and material connectivity depends on timescale, here: suppose linear relationship\n",
      "\n",
      "**Brain networks are topologically complex**\n",
      "1. connectomes\n",
      "\n",
      "* Brains have a small-world architecture\n",
      " 1. small-world ntw: both high clustering (~regular) & short path-length (rnd), ex: C Elegans\n",
      " 2. MRI, fMRI, EEG, MEG\n",
      "\n",
      "* Segregation and integration\n",
      " 1. segregation~specialisation, integrated~distributed\n",
      " 2. segregation~clustering~functional modularity\n",
      " 3. integrated~globally efficient: higher IQ neg. corr. path length (Li&al \"Brain anatomical network and intelligence\", van den Heuvel &al \"Efficiency of functional brain networks and intellectual performance\"), PIQ corr. parietal ctx centrality in fc (Langer&al \"Functional brain network efficiency predicts intelligence\")\n",
      " 4. related to workspace theory\n",
      " 5. rel. with dynamics: ntw modularity confers robustness to connection reconfiguration, enables phase transitions\n",
      "\n",
      "**Brain networks make cost-value trade-offs**\n",
      " 1. relationship btw cost minimisation and topol. complexity\n",
      "\n",
      "* Parsimonious and permissive cost-drives to achieve segregated and integrated topology\n",
      " 1. brain organisation emerges from genetic and epigenetic [activ. dependent?]. Genetic mechanisms: gradients, expression patterns\n",
      " 2. probably physical constrains (reflected by wiring minimisation)\n",
      " 3. Integration, hwvr, requires long dist conn that violate the wiring minimisation principle\n",
      " 4. there is a trade-off\n",
      "\n",
      "* Nervous systems have high network efficiency for low cost\n",
      " 1. C. Elegans has only 5% of all possible connections with 46% of the maximum possible efficiency\n",
      " 2. \"Rentian scaling\" [a measure used for VLSI chips?] predicts predict allometry relationships for GM/WM [34, 109]\n",
      " 3. in fmri&MEG: cost (~connection density or connection distance) vs topological efficiency\n",
      " 4. connection efficiency h2=60-80% (N=16 MZ pairs, N=13 DZ pairs) [This may be a BV effect!!]\n",
      " \n",
      "* Economical reconfiguration of functional networks\n",
      " 1. classically: rsfc presents a static view\n",
      " 2. now: dynamic or task-related. +effort:+efficiency +long distance, -effort: +clustering +modularity -long distance\n",
      " 3. during maturation: adolescence (DTI): + efficiency -clustering, children/ado (fMRI): +long distance fc. Hypothesis: maturation involves reaching optimum trade-off\n",
      "\n",
      "**Disorders of brain network economy**\n",
      " 1. ntw economic analysis of brain disorders\n",
      "\n",
      "* Cost-related brain network disorders\n",
      " 1. expensive=>vulnerable to energy failures. Metabolic distress should => high-cost ntw elements disruption (hubs, long dist connections)\n",
      " 2. The model has been developed for Alzheimer: attack of expensive (hub) regions. Observed -long dist, +path length, +clustering\n",
      " 3. Multiple sclerosis: attack of expensive (long) connections.\n",
      " 4. => expensive elements are vulnerabilities to pathology\n",
      "\n",
      "* Developmental brain network disorders\n",
      " 1. involves description of ntw abnormalities & understand how these abnormalities were produced\n",
      " 2. schz: - clustering, -modulatiry, =+efficienty in patients: \"a subtle rnd of the ntw topol\"\n",
      " 3. there are also reports of the contrary...\n",
      " 4. the abnormality may be then just \"non-optimal trade-off of cost vs efficiency\"\n",
      " 5. generative modelling will be important (Vertes&al \"Simple models of human brain functional networks\")\n",
      "\n",
      "**Conclusions and future directions**\n",
      "  1. connectome topol: trade-off\n",
      "  2. further experimental & computational testing is required"
     ]
    },
    {
     "cell_type": "markdown",
     "metadata": {},
     "source": [
      "### [Biblio] Area patterning of the mammalian cortex. O'Leary & al Neuron\n",
      "\n",
      "* Cerebral cortex: largest & most complex component of the mammalian brain, most affected by evolution. Result: Increase in size and complexity\n",
      "* Ctx arises from dorsal telencephalon, major part of the forebrain. Forebrain: anterior-most part of neural tube (out of 3). Dorsal forebrain produces telencephalic vesicles and diencephalon (thalamus/hypothalamus). Telencephalon produces dor. telencephalon, and vent. telencephalon which produces striatum and basal ganglia.\n",
      "* Ctx produces neoctx, archictx (entorhinal, retrosplenial, subiculum, hipp) and paleoctx (olfactory). Vertically: laminar pattern (6 major layers), tangentially: areas (differences: functional, cyto- chemo-architecture, connections & patterns of gene expression). Transitions from area to area are *abrupt*\n",
      "* G&A\n",
      "* G: morphogens & signaling molecules from patterning centres establish expression patterns of TFs or combinations of TFs. TFs establish and maintain areal identity, with additional contribution of TCA\n"
     ]
    },
    {
     "cell_type": "code",
     "collapsed": false,
     "input": [],
     "language": "python",
     "metadata": {},
     "outputs": []
    }
   ],
   "metadata": {}
  }
 ]
}