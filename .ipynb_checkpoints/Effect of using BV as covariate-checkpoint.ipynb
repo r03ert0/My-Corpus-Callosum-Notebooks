{
 "metadata": {
  "name": "",
  "signature": "sha256:6a64c43bcb9b4621443d477fc3796a11c211072758b85ff0b22a92050ac247fb"
 },
 "nbformat": 3,
 "nbformat_minor": 0,
 "worksheets": [
  {
   "cells": [
    {
     "cell_type": "markdown",
     "metadata": {},
     "source": [
      "# Effect of using Brain Volume (BV) as covariate to control for differences in BV between cases and controls\n",
      "\n",
      "*Roberto Toro, July 2014*\n",
      "\n",
      "A frequent analysis strategy to control for differences in CC size among cases and controls is to use BV as a covariate in a linear model. Here we study the effectivity of this strategy using simulations."
     ]
    },
    {
     "cell_type": "code",
     "collapsed": false,
     "input": [
      "%pylab inline\n",
      "import numpy as np\n",
      "import matplotlib.pyplot as plt\n",
      "import statsmodels.api as sm\n",
      "import statsmodels.formula.api as smf\n",
      "import pandas"
     ],
     "language": "python",
     "metadata": {},
     "outputs": [
      {
       "output_type": "stream",
       "stream": "stdout",
       "text": [
        "Populating the interactive namespace from numpy and matplotlib\n"
       ]
      }
     ],
     "prompt_number": 1
    },
    {
     "cell_type": "markdown",
     "metadata": {},
     "source": [
      "##Constants"
     ]
    },
    {
     "cell_type": "code",
     "collapsed": false,
     "input": [
      "bv=1097252.27913964; # Brain volume\n",
      "s=112310.67; # Standard deviation\n",
      "a=10**(-0.409308); # intercept of allometric formula\n",
      "b=0.6445876; # slope of allometric formula\n",
      "v=0.19 # part of the variance in CC size explained by brain volume\n",
      "iter=1000 # number of iterations"
     ],
     "language": "python",
     "metadata": {},
     "outputs": [],
     "prompt_number": 7
    },
    {
     "cell_type": "markdown",
     "metadata": {},
     "source": [
      "##Helper functions"
     ]
    },
    {
     "cell_type": "code",
     "collapsed": false,
     "input": [
      "def rnorm(n,u,s):\n",
      "    return np.random.standard_normal(n)*s+u\n",
      "def mean(x):\n",
      "    return np.mean(x)\n",
      "def sqrt(x):\n",
      "    return np.math.sqrt(x)\n",
      "def sd(x):\n",
      "    return np.std(x)"
     ],
     "language": "python",
     "metadata": {},
     "outputs": [],
     "prompt_number": 8
    },
    {
     "cell_type": "markdown",
     "metadata": {},
     "source": [
      "##Simulation"
     ]
    },
    {
     "cell_type": "code",
     "collapsed": false,
     "input": [
      "S=pandas.Series();\n",
      "p1=np.empty(iter);\n",
      "p2=np.empty(iter);\n",
      "for d in np.arange(1,0,-0.1):\n",
      "    for n in np.arange(50,400,50):\n",
      "        for i in range(0,iter):\n",
      "            # brain volume size\n",
      "            bv1=rnorm(n/2,bv-s*d/2,s);\n",
      "            bv2=rnorm(n/2,bv+s*d/2,s);\n",
      "\n",
      "            # part of the size of the corpus callosum related to brain volume (19% of the variance)\n",
      "            cc1a=a*bv1**(b-1);\n",
      "            cc2a=a*bv2**(b-1);\n",
      "\n",
      "            # part of the size of the corpus callosum unrelated to brain volume (81% of the variance)\n",
      "            cc1b=rnorm(n/2,mean(cc1a),sqrt(sd(cc1a)**2*(1/v-1)))\n",
      "            cc2b=rnorm(n/2,mean(cc2a),sqrt(sd(cc2a)**2*(1/v-1)))\n",
      "\n",
      "            # corpus callosum size\n",
      "            cc1=cc1a+cc1b;\n",
      "            cc2=cc2a+cc2b;\n",
      "\n",
      "            y=np.concatenate((cc1,cc2));\n",
      "            x=np.concatenate((bv1,bv2));\n",
      "            g=np.concatenate((array([0]).repeat(n/2),array([1]).repeat(n/2)));\n",
      "\n",
      "            df=pandas.DataFrame({'Y':y,'X':x,'G':g});\n",
      "            result=smf.ols(formula=\"Y ~ X + C(G) + X * C(G)\",data=df).fit();\n",
      "            p1[i]=result.pvalues[\"C(G)[T.1]\"];\n",
      "            p2[i]=result.pvalues[\"X:C(G)[T.1]\"];\n",
      "            \n",
      "        pw1=(p1<0.05).nonzero()[0].size;\n",
      "        pw2=(p2<0.05).nonzero()[0].size;\n",
      "        S=pandas.concat([S,pandas.Series([n,d,100*pw1/iter,100*pw2/iter])]);\n",
      "D=pandas.DataFrame(S.reshape(70,4),columns=['N','D','PowerGroup','PowerInteraction']);"
     ],
     "language": "python",
     "metadata": {},
     "outputs": [],
     "prompt_number": 9
    },
    {
     "cell_type": "markdown",
     "metadata": {},
     "source": [
      "Group effect"
     ]
    },
    {
     "cell_type": "code",
     "collapsed": false,
     "input": [
      "plt.figure();\n",
      "for d in arange(0.1,1,0.1):\n",
      "    D.loc[(D.D>d-0.05) & (D.D<d+0.05)].plot(x='N',y='PowerGroup')\n",
      "plt.legend(np.arange(0.1,1.1,0.1))\n",
      "plt.ylim([0,100])"
     ],
     "language": "python",
     "metadata": {},
     "outputs": [
      {
       "metadata": {},
       "output_type": "pyout",
       "prompt_number": 10,
       "text": [
        "(0, 100)"
       ]
      },
      {
       "metadata": {},
       "output_type": "display_data",
       "png": "[encoded data removed]",
       "text": [
        "<matplotlib.figure.Figure at 0x113083d90>"
       ]
      }
     ],
     "prompt_number": 10
    },
    {
     "cell_type": "markdown",
     "metadata": {},
     "source": [
      "Interaction effect"
     ]
    },
    {
     "cell_type": "code",
     "collapsed": false,
     "input": [
      "plt.figure();\n",
      "for d in arange(0.1,1,0.1):\n",
      "    D.loc[(D.D>d-0.05) & (D.D<d+0.05)].plot(x='N',y='PowerInteraction')\n",
      "plt.legend(np.arange(0.1,1.1,0.1))\n",
      "plt.ylim([0,100])"
     ],
     "language": "python",
     "metadata": {},
     "outputs": [
      {
       "metadata": {},
       "output_type": "pyout",
       "prompt_number": 11,
       "text": [
        "(0, 100)"
       ]
      },
      {
       "metadata": {},
       "output_type": "display_data",
       "png": "[encoded data removed]",
       "text": [
        "<matplotlib.figure.Figure at 0x110324b50>"
       ]
      }
     ],
     "prompt_number": 11
    },
    {
     "cell_type": "code",
     "collapsed": false,
     "input": [],
     "language": "python",
     "metadata": {},
     "outputs": []
    }
   ],
   "metadata": {}
  }
 ]
}