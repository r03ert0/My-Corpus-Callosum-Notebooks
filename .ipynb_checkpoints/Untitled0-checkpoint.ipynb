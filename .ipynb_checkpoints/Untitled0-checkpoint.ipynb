{
 "metadata": {
  "name": "",
  "signature": "sha256:d625fa6a30efb221d6e5e47fbd2aa80069502de514309bd62eb805881de7cf26"
 },
 "nbformat": 3,
 "nbformat_minor": 0,
 "worksheets": []
}