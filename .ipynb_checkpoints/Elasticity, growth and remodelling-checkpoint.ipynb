{
 "metadata": {
  "name": "",
  "signature": "sha256:54219a4dafc8d1c64a40f5a157e70d763f1248794750540b1328820a8d458670"
 },
 "nbformat": 3,
 "nbformat_minor": 0,
 "worksheets": [
  {
   "cells": [
    {
     "cell_type": "markdown",
     "metadata": {},
     "source": [
      "Elasticity, growth and remodelling\n",
      "----------------------------------\n",
      "\n",
      "The brain growth model formalises several phenomena:\n",
      "\n",
      "1. Brain tissue mechanics: elasticity and viscosity,\n",
      "2. Autonomous growth: increase in number and size of cells until a target size is reached,\n",
      "3. Stress-induced local growth: driven by the active compensation of local residual stress.\n",
      "\n",
      "It is helpful to write the equations for the simplest case: a linear spring. For the linear spring, the mechanics can be described using a simple linear relationship between stress (force per unit area) and strain (geometric deformation) \u2013 Hook's law:\n",
      "\n",
      "Eq. 1:\n",
      "\\begin{eqnarray}\n",
      "F &=& -k(x-r) \\\\\n",
      "m a &=& -k(x-r) \\\\\n",
      "m \\frac {d^2x} {d t^2} &=& -k(x-r) \\\\\n",
      "\\frac {d^2 x} {d t^2} &=& - \\frac k m (x-r).\n",
      "\\end{eqnarray}\n",
      "\n",
      "Autonomous growth increases the number of cells and their size until a target size is reached. This can be formulated as a change in the resting length of the linear spring proportional to the difference between the target length $r^\\infty$ and the actual resting length:\n",
      "\n",
      "Eq. 2:\n",
      "\\begin{equation}\n",
      "\\frac{d r} {d t}=\\frac 1 {T_g} (r^\\infty-r).\n",
      "\\end{equation}\n",
      "\n",
      "The speed of increase is given by $1/{T_g}$, where $T_g$ is the time constant of the autonomous growth. In the absence of any other phenomena, this growth would produce an exponential asymptotic growth, equivalent to Von Bertalanffy's growth model. In that case, the time constant $T_g$ would represent the time at which ~63% of the target size is reached ($1-1/e$).\n",
      "\n",
      "Autonomous growth will increase the number of cells and their size. Cells will then be mechanically compressed. This compression can repress cell growth or even trigger apoptosis. In the simple case of our linear spring the effect of this stress-induced local growth (here contraction) will be to slow down the global autonomous growth, however, in more complex configurations autonomous growth can induce heterogeneous distributions of local stress, which will then trigger heterogeneous, localised, patterns of tissue growth and contraction. Stress-induced local growth can be formulated as a change in the rest length that will approach the material length of the spring with a speed proportional to the difference between both:\n",
      "\n",
      "Eq. 3:\n",
      "\\begin{equation}\n",
      "\\frac {d r} {d t}=\\frac 1 {T_l} (x-r).\n",
      "\\end{equation}\n",
      "\n",
      "The speed of compensation of stress by local growth or contraction is given by $1/{T_l}$. Equations 2 and 3 can be combined into a single formula for the change in the rest length of the linear spring:\n",
      "\n",
      "Eq. 4:\n",
      "\\begin{equation}\n",
      "\\frac {d r} {d t} = \\frac 1 {T_g} (r^\\infty-r) + \\frac 1 {T_l} (x-r).\n",
      "\\end{equation}\n",
      "\n",
      "Then, equations 1 and 4 form a system of linear differential equations with two variables, $x$ and $r$, and four constants, $(k/m)$, $r^\\infty$, $T_g$ and $T_l$. This system can be solved using Laplace transformations. Using Maxima:\n",
      "\n",
      "\n",
      "    desolve(['diff(x(t),t,2) = a*(x(t)-r(t)) , 'diff(r(t),t) = b*(x(t)-r(t))+c*(d-r(t))],[x(t),r(t)]),\n",
      "\n",
      "whose solution is\n",
      "\n",
      "    x(t) = 'ilt(((x(0)-d)*z^2+('at('diff(x(t),t,1),t = 0)\n",
      "                +(-c-b)*d+x(0)*c+x(0)*b)\n",
      "                *z\n",
      "                +(c+b)*('at('diff(x(t),t,1),t = 0))+a*d\n",
      "                -r(0)*a)\n",
      "                /(z^3+(c+b)*z^2-a*z-a*c),z,t)\n",
      "                +d\n",
      "    r(t) = 'ilt(((r(0)-d)*z^2+(x(0)*b-b*d)*z\n",
      "                +b*('at('diff(x(t),t,1),t = 0))+a*d\n",
      "                -r(0)*a)\n",
      "                /(z^3+(c+b)*z^2-a*z-a*c),z,t)\n",
      "                +d\n",
      "\n"
     ]
    },
    {
     "cell_type": "markdown",
     "metadata": {},
     "source": [
      "Laplace transform of derivatives:\n",
      "\n",
      "\\begin{eqnarray}\n",
      "L(\\frac {df} {dt}) &=& \\int_0^\\infty {\\frac {df} {dt} e^{-st} dt} \\\\\n",
      "                   &=& -f(0) + s F(s), s>0 \\\\\n",
      "L(\\frac {d^2f} {dt^2}) &=& s^2F(s) - sf(0) - \\frac {df} {dt} (0), s>0\n",
      "\\end{eqnarray}\n",
      "\n",
      "Then, for\n",
      "\n",
      "\\begin{eqnarray}\n",
      "\\frac {d^2 x} {d t^2} &=& a (x-r), \\\\\n",
      "\\frac {d r} {d t} &=& b (x-r) + c(d-r),\n",
      "\\end{eqnarray}\n",
      "\n",
      "the application of the Laplace transform gives\n",
      "\n",
      "\\begin{eqnarray}\n",
      "s^2X - sx(0) - \\frac {dx} {dt} (0) &=& a(X-R), \\\\\n",
      "-r(0) + s R &=& b (X-R) -cR + \\frac {cd} s.\n",
      "\\end{eqnarray}"
     ]
    },
    {
     "cell_type": "markdown",
     "metadata": {},
     "source": [
      "and then\n",
      "\n",
      "\\begin{equation}\n",
      "aR=-X(s^2-a)+s x(0)+\\frac{dx}{dt}(0)\n",
      "\\end{equation}\n",
      "\n",
      "and\n",
      "\n",
      "\\begin{equation}\n",
      "(s+b+c)R= bX + \\frac {cd} s +r(0),\n",
      "\\end{equation}\n",
      "\n",
      "from where\n",
      "\n",
      "\\begin{equation}\n",
      "\\frac {-X(s^2-a)+s x(0)+\\frac{dx}{dt}(0)} a =  \\frac {bX + \\frac {cd} s +r(0)} {(s+b+c)}\n",
      "\\end{equation}\n",
      "\n",
      "and\n",
      "\n",
      "\\begin{equation}\n",
      "X \\left(\\frac {-(s^2-a)} a - \\frac b {(s+b+c)}\\right) = \\frac {\\frac {cd} s +r(0)} {(s+b+c)} - \\frac {s x(0)+\\frac{dx}{dt}(0)} a\n",
      "\\end{equation}"
     ]
    },
    {
     "cell_type": "code",
     "collapsed": false,
     "input": [
      "from IPython.display import display\n",
      "\n",
      "from sympy.interactive import printing\n",
      "printing.init_printing(use_latex='mathjax')\n",
      "\n",
      "from __future__ import division\n",
      "import sympy as sym\n",
      "from sympy import *\n",
      "t, a, b, c, d, s = symbols(\"t a b c d s\")\n",
      "x, r = map(Function, 'xr')"
     ],
     "language": "python",
     "metadata": {},
     "outputs": [],
     "prompt_number": 11
    },
    {
     "cell_type": "code",
     "collapsed": false,
     "input": [
      "xeqn=Eq(Derivative(x(t),t,2),a(x(t)-r(t)))\n",
      "reqn=Eq(Derivative(r(t),t),b(x(t)-r(t))+c(d-r(t)))\n",
      "display(xeqn,reqn)"
     ],
     "language": "python",
     "metadata": {},
     "outputs": [
      {
       "latex": [
        "$$\\frac{d^{2}}{d t^{2}}  x{\\left (t \\right )} = a{\\left (- r{\\left (t \\right )} + x{\\left (t \\right )} \\right )}$$"
       ],
       "metadata": {},
       "output_type": "display_data",
       "text": [
        "  2                        \n",
        " d                         \n",
        "\u2500\u2500\u2500(x(t)) = a(-r(t) + x(t))\n",
        "  2                        \n",
        "dt                         "
       ]
      },
      {
       "latex": [
        "$$\\frac{d}{d t} r{\\left (t \\right )} = b{\\left (- r{\\left (t \\right )} + x{\\left (t \\right )} \\right )} + c{\\left (d - r{\\left (t \\right )} \\right )}$$"
       ],
       "metadata": {},
       "output_type": "display_data",
       "text": [
        "d                                       \n",
        "\u2500\u2500(r(t)) = b(-r(t) + x(t)) + c(d - r(t))\n",
        "dt                                      "
       ]
      }
     ],
     "prompt_number": 12
    },
    {
     "cell_type": "code",
     "collapsed": false,
     "input": [
      "from sympy.integrals import laplace_transform\n",
      "laplace_transform(Derivative(x(t),t,2),t,s)"
     ],
     "language": "python",
     "metadata": {},
     "outputs": [
      {
       "latex": [
        "$$\\mathcal{L}_{t}\\left[\\frac{d^{2}}{d t^{2}}  x{\\left (t \\right )}\\right]\\left(s\\right)$$"
       ],
       "metadata": {},
       "output_type": "pyout",
       "prompt_number": 22,
       "text": [
        "                \u239b  2            \u239e\n",
        "                \u239c d             \u239f\n",
        "LaplaceTransform\u239c\u2500\u2500\u2500(x(t)), t, s\u239f\n",
        "                \u239c  2            \u239f\n",
        "                \u239ddt             \u23a0"
       ]
      }
     ],
     "prompt_number": 22
    },
    {
     "cell_type": "code",
     "collapsed": false,
     "input": [],
     "language": "python",
     "metadata": {},
     "outputs": []
    }
   ],
   "metadata": {}
  }
 ]
}