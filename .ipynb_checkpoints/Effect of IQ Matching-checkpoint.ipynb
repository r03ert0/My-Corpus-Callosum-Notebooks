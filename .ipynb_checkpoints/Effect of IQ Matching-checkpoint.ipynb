{
 "metadata": {
  "name": "",
  "signature": "sha256:35aa4a049502d2097f46a3d1bfc82668ad99f61920a1a36c76e604b8d0f79994"
 },
 "nbformat": 3,
 "nbformat_minor": 0,
 "worksheets": [
  {
   "cells": [
    {
     "cell_type": "markdown",
     "metadata": {},
     "source": [
      "# Effect of IQ matching\n",
      "\n",
      "*Roberto Toro, July 2014*\n",
      "\n",
      "Verbal and performance IQ correlate with brain size in the general population. In ASD patients, however, verbal IQ does not seem to correlate with brain size. On the other hand, many studies of the neuroanatomy of autism match their case and control groups by IQ. Can this matching induce an overrepresentation of subjects with large brain volume among cases, and an underrepresentation of small brain volumes among controls?\n",
      "\n",
      "I test this possibility by simulating two populations, one following the covariance pattern between VIQ, PIQ and BV observed among controls, the other following the covariance pattern observed among patients. The two populations are then matched by Full IQ (considering FIQ=(VIQ+PIQ)/2), and I look at the change in the power to find a difference in brain volume as a function of sample size.\n",
      "\n",
      "\n",
      "## Import data\n",
      "\n",
      "A .csv table with VIQ, PIQ and BV data for the ASD and Ctrl groups is at http://siphonophore/corpuscallosum/data/viq-piq-bv.txt. We start by downloading the data from there.\n",
      "\n",
      "<b>data</b>: Nx4 matrix, 1 row per subject, 4 columns: Dx (1:ASD, 2:Ctrl), VIQ, PIQ, BV (mm3)<br>\n",
      "    <b>ASD</b>: N<sub>asd</sub> vector, indices of ASD subjects within <b>data</b>\n",
      "    <b>Ctrl</b>: N<sub>ctrl</sub> vector, indexes of Control subjects within <b>data</b>\n",
      "</p>"
     ]
    },
    {
     "cell_type": "code",
     "collapsed": false,
     "input": [
      "%pylab inline\n",
      "\n",
      "import numpy as np\n",
      "import matplotlib.pyplot as plt\n",
      "import scipy.linalg as lin\n",
      "import scipy.stats as sst\n",
      "import pandas\n",
      "\n",
      "# 1. Import the data, find ASD and Ctrl subjects\n",
      "# columns are: Diagnostic, VIQ, PIQ, BV\n",
      "data=np.genfromtxt(\"http://siphonophore.org/corpuscallosum/data/viq-piq-bv.txt\",skip_header=1);\n",
      "ASD=np.nonzero(data[:,0]==1)[0]\n",
      "Ctrl=np.nonzero(data[:,0]==2)[0]"
     ],
     "language": "python",
     "metadata": {},
     "outputs": [
      {
       "output_type": "stream",
       "stream": "stdout",
       "text": [
        "Populating the interactive namespace from numpy and matplotlib\n"
       ]
      }
     ],
     "prompt_number": 1
    },
    {
     "cell_type": "markdown",
     "metadata": {},
     "source": [
      "##Compute covariance matrices\n",
      "<b>VA</b>: 3x3 matrix, covariance matrix between VIQ, PIQ and BV for ASD subjects<br>\n",
      "<b>VC</b>: 3x3 matrix, covariance matrix between VIQ, PIQ, BV for Control subjects<br>"
     ]
    },
    {
     "cell_type": "code",
     "collapsed": false,
     "input": [
      "1# 2. Compute means and covariance matrices\n",
      "if 0:\n",
      "    # observed statistics\n",
      "    muA=np.mean(data[ ASD,1:],axis=0);\n",
      "    muC=np.mean(data[Ctrl,1:],axis=0);\n",
      "    VA=np.cov(data[ASD,1:],rowvar=0);\n",
      "    VC=np.cov(data[Ctrl,1:],rowvar=0);\n",
      "if 1:\n",
      "    # test statistics\n",
      "    rPB=0.30  # correlation between PIQ and brain volume\n",
      "    rVP=0.5   # correlation between VIQ and PIQ\n",
      "    sV=sP=15  # standard deviation of VIQ and PIQ\n",
      "    sB=100    # standard deviation of brain volume\n",
      "    muA=np.array([100,110,1100]);\n",
      "    muC=np.array([110,110,1100]);\n",
      "    VA=np.array([[sV*sV,rVP*sV*sP,0],        [rVP*sV*sP,sP*sP,rPB*sP*sB],[0,rPB*sP*sB,sB*sB]])\n",
      "    VC=np.array([[sV*sV,rVP*sV*sP,rPB*sV*sB],[rVP*sV*sP,sP*sP,rPB*sP*sB],[rPB*sV*sB,rPB*sP*sB,sB*sB]])\n",
      "print \"ASD means\";\n",
      "print muA;\n",
      "print \"Ctrl means\";\n",
      "print muC;\n",
      "print \"ASD covariance\";\n",
      "print VA;\n",
      "print \"Ctrl covariance matrix\";\n",
      "print VC;"
     ],
     "language": "python",
     "metadata": {},
     "outputs": [
      {
       "output_type": "stream",
       "stream": "stdout",
       "text": [
        "ASD means\n",
        "[ 100  110 1100]\n",
        "Ctrl means\n",
        "[ 110  110 1100]\n",
        "ASD covariance\n",
        "[[   225.     112.5      0. ]\n",
        " [   112.5    225.     450. ]\n",
        " [     0.     450.   10000. ]]\n",
        "Ctrl covariance matrix\n",
        "[[   225.     112.5    450. ]\n",
        " [   112.5    225.     450. ]\n",
        " [   450.     450.   10000. ]]\n"
       ]
      }
     ],
     "prompt_number": 2
    },
    {
     "cell_type": "markdown",
     "metadata": {},
     "source": [
      "## Iterations\n",
      "<b>N</b>: scalar, initial number of subjects in each group (before matching)\n",
      "\n",
      "### Generate groups\n",
      "<b>muA</b>: vector, mean VIQ, mean PIQ and mean BV for ASD<br>\n",
      "<b>muC</b>: vector, mean VIQ, mean PIQ and mean BV for Controls<br>\n",
      "<b>yA</b>: Nx3 matrix, values generated with mean muA and covariance matrix VA<br>\n",
      "<b>yC</b>: Nx3 matrix, values generated with mean muC and covariance matric VC<br>\n",
      "<b>iA</b>: N vector, with values from 0 to N-1<br>\n",
      "<b>iC</b>: N vector, with values from 0 to N-1<br>\n",
      "\n",
      "### Generate FIQ values\n",
      "<b>FA</b>: N vector, with FIQ values for ASD<br>\n",
      "<b>FC</b>: N vector, with FIQ values for Controls<br>\n",
      "\n",
      "### Get the largest min and the smallest max to truncate the distributions\n",
      "<b>minAC</b>: largest min between min(FIQ) ASD and min(FIQ) Controls<br>\n",
      "<b>maxAC</b>: smallest max between max(FIQ) ASD and max(FIQ) Controls<br>\n",
      "<br>\n",
      "Now, the indices corresponding to samples in both groups where FIQ&lt;minAC and FIQ&gt;maxAC are deleted from <b>iA</b> and <b>iC</b>.<br>\n",
      "<br>\n",
      "<b>TMP</b>: 3x(Nia+Nic) matrix, 1st row: FIQ values, 2nd row: 1 for ASD, 2 for Ctrl, 3rd row: subject index in yA and yC (depending on the value of the 2nd row)<br>\n",
      "<b>ind</b>: (Nia+Nic) vector with the re-arrangement of the indices that would sort TMP by FIQ.<br>\n",
      "<br>\n",
      "Now, the samples are matched by FIQ, and the new indices of matched subjects are placed in iA and iC<br>\n",
      "<br>"
     ]
    },
    {
     "cell_type": "code",
     "collapsed": false,
     "input": [
      "# 3. Iterations\n",
      "flagSave=0;\n",
      "iter=1000; # number of iterations\n",
      "\n",
      "#rPB=0.30  # correlation between PIQ and brain volume\n",
      "rVP=0.5   # correlation between VIQ and PIQ\n",
      "sV=sP=15  # standard deviation of VIQ and PIQ\n",
      "sB=100    # standard deviation of brain volume\n",
      "muA=np.array([100,110,1100]);\n",
      "muC=np.array([110,110,1100]);\n",
      "\n",
      "S=pandas.Series();\n",
      "for irPB in range(0,5,1):\n",
      "    rPB=0.30+0.05*irPB;\n",
      "    VA=np.array([[sV*sV,rVP*sV*sP,0],        [rVP*sV*sP,sP*sP,rPB*sP*sB],[0,rPB*sP*sB,sB*sB]])\n",
      "    VC=np.array([[sV*sV,rVP*sV*sP,rPB*sV*sB],[rVP*sV*sP,sP*sP,rPB*sP*sB],[rPB*sV*sB,rPB*sP*sB,sB*sB]])\n",
      "    \n",
      "    for N in range(100,1600,200):\n",
      "        T=[]\n",
      "        P=[]\n",
      "        mean_N=0;\n",
      "        mean_yMA=0;\n",
      "        mean_yMC=0;\n",
      "        for j in range(0,iter):\n",
      "            # generate ASD and Ctrl subjects after the observed\n",
      "            # covariance matrices\n",
      "            yA=np.random.multivariate_normal(muA,VA,size=N)\n",
      "            yC=np.random.multivariate_normal(muC,VC,size=N)\n",
      "        \n",
      "            # generate FIQ values\n",
      "            FA=0.5*yA[:,0]+0.5*yA[:,1]\n",
      "            FC=0.5*yC[:,0]+0.5*yC[:,1]\n",
      "    \n",
      "            # get the largest min, and the smallest max to truncate the distributions\n",
      "            minA=np.min(FA);\n",
      "            maxA=np.max(FA);\n",
      "            minC=np.min(FC);\n",
      "            maxC=np.max(FC);\n",
      "            if(minA<minC):\n",
      "                minAC=minC\n",
      "            else:\n",
      "                minAC=minA\n",
      "            if(maxA>maxC):\n",
      "                maxAC=maxC\n",
      "            else:\n",
      "                maxAC=maxA\n",
      "            iA=range(0,N)\n",
      "            iC=range(0,N)\n",
      "            iA=np.delete(iA,np.nonzero(FA<minAC))\n",
      "            iA=np.delete(iA,np.nonzero(FA>maxAC))\n",
      "            iC=np.delete(iC,np.nonzero(FC<minAC))\n",
      "            iC=np.delete(iC,np.nonzero(FC>maxAC))\n",
      "        \n",
      "            # concatenate both populations and sort them by FIQ\n",
      "            TMPA=np.concatenate([[FA[iA]],[1*np.ones(iA.shape,dtype=int)],[iA]])\n",
      "            TMPC=np.concatenate([[FC[iC]],[2*np.ones(iC.shape,dtype=int)],[iC]])\n",
      "            TMP=np.concatenate([TMPA,TMPC],axis=1)\n",
      "            ind=np.argsort(TMP)[0,:]\n",
      "        \n",
      "            # pick one from one group, one from the other\n",
      "            MATCHED=np.array([TMP[:,ind[0]]]);\n",
      "            old=TMP[1,ind[0]];\n",
      "            for i in range(1,TMP.shape[1]):\n",
      "                if TMP[1,ind[i]]!=old:\n",
      "                    old=TMP[1,ind[i]]\n",
      "                    MATCHED=np.concatenate([MATCHED,np.array([TMP[:,ind[i]]])])\n",
      "            iA=MATCHED[np.nonzero(MATCHED[:,1]==1)[0],2].astype('int');\n",
      "            iC=MATCHED[np.nonzero(MATCHED[:,1]==2)[0],2].astype('int');\n",
      "            yMA=yA[iA,:].T\n",
      "            yMC=yC[iC,:].T\n",
      "        \n",
      "            # compare brain volume between groups\n",
      "            t,prob=sst.ttest_ind(yMA[2,:],yMC[2,:]);\n",
      "            #print \"t:\",t,\"prob:\",prob\n",
      "            T=T+[t]\n",
      "            P=P+[prob/2.0]\n",
      "            \n",
      "            mean_N=mean_N+yMA.shape[1];\n",
      "            mean_yMA=mean_yMA+np.mean(yMA[2,:]);\n",
      "            mean_yMC=mean_yMC+np.mean(yMC[2,:]);\n",
      "            \n",
      "        # print rPB,N,mean_N/float(iter),mean_yMA/float(iter),mean_yMC/float(iter),np.sum(np.array(P)<0.05)/float(iter)    \n",
      "        pw=np.sum(np.array(P)<0.05);\n",
      "        S=pandas.concat([S,pandas.Series([rPB,\n",
      "                                          N,\n",
      "                                          mean_N/float(iter),\n",
      "                                          mean_yMA/float(iter),\n",
      "                                          mean_yMC/float(iter),\n",
      "                                          100*pw/iter])]);"
     ],
     "language": "python",
     "metadata": {},
     "outputs": [],
     "prompt_number": 11
    },
    {
     "cell_type": "code",
     "collapsed": false,
     "input": [
      "D=pandas.DataFrame(S.reshape(40,6),\n",
      "                   columns=['rPB',\n",
      "                            'OriginalN',\n",
      "                            'Mean(N)',\n",
      "                            'Mean(BV_ASD)',\n",
      "                            'Mean(BV_Ctrl)',\n",
      "                            'Power']);        # plot the matched distributions\n",
      "#pylab.figure()\n",
      "#pylab.hist(yMA[2,:],cumulative=1,histtype='step')\n",
      "#pylab.hist(yMC[2,:],cumulative=1,histtype='step')\n"
     ],
     "language": "python",
     "metadata": {},
     "outputs": [],
     "prompt_number": 18
    },
    {
     "cell_type": "markdown",
     "metadata": {},
     "source": [
      "The plot shows the power to detect a significant difference in brain volume induced by IQ matching. The group size goes from 50 to 750 subjects per group, and the correlation between brain volume and full IQ is determined by a correlation between performance IQ and brain volume going from 0.3 to 0.5."
     ]
    },
    {
     "cell_type": "code",
     "collapsed": false,
     "input": [
      "plt.figure();\n",
      "legend=[];\n",
      "for irPB in range(0,5,1):\n",
      "    rPB=0.30+0.05*irPB;\n",
      "    legend=legend+[rPB];\n",
      "    D.loc[(D.rPB>rPB-0.001) & (D.rPB<rPB+0.001)].plot(x='Mean(N)',y='Power');\n",
      "plt.legend(legend)\n",
      "plt.ylim([0,100])"
     ],
     "language": "python",
     "metadata": {},
     "outputs": [
      {
       "metadata": {},
       "output_type": "pyout",
       "prompt_number": 20,
       "text": [
        "(0, 100)"
       ]
      },
      {
       "metadata": {},
       "output_type": "display_data",
       "png": "[encoded data removed]",
       "text": [
        "<matplotlib.figure.Figure at 0x11129e590>"
       ]
      }
     ],
     "prompt_number": 20
    },
    {
     "cell_type": "code",
     "collapsed": false,
     "input": [],
     "language": "python",
     "metadata": {},
     "outputs": []
    }
   ],
   "metadata": {}
  }
 ]
}